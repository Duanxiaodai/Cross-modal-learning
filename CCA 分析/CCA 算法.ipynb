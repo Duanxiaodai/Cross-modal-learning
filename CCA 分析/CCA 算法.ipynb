{
 "cells": [
  {
   "cell_type": "code",
   "execution_count": 15,
   "metadata": {
    "collapsed": false
   },
   "outputs": [
    {
     "name": "stdout",
     "output_type": "stream",
     "text": [
      "[[ 1  2  4  6  8]\n",
      " [10 12 14 16 18]\n",
      " [20 22 24 26 28]\n",
      " [21 34 35 12 45]]\n"
     ]
    }
   ],
   "source": [
    "import numpy as np\n",
    "\n",
    "# X = np.arange(0, 30, 2)# start at 0 count up by 2, stop before 30\n",
    "# X = X.reshape(3, 5)\n",
    "# print(X)\n",
    "# Y = X*2\n",
    "# print(Y)\n",
    "X = [[ 1 , 2 , 4 , 6,  8],\n",
    " [10 ,12 ,14 ,16, 18],\n",
    " [20, 22, 24 ,26 ,28],\n",
    "    [21,34,35,12,45]]\n",
    "Y= np.array(X)\n",
    "# Y= Y.transpose()\n",
    "print(Y)"
   ]
  },
  {
   "cell_type": "code",
   "execution_count": 17,
   "metadata": {
    "collapsed": false
   },
   "outputs": [
    {
     "name": "stdout",
     "output_type": "stream",
     "text": [
      "特征值开方= 1.74440455133\n",
      "第一主成分不显著关联\n",
      "Q2= (-1.46468794116+8.61694771015j)\n",
      "第二主成分不显著关联\n",
      "Q3= (-5.61777216693+0j)\n",
      "第三主成分不显著关联\n"
     ]
    },
    {
     "data": {
      "text/plain": [
       "([], [], (1.7444045513324742+0j))"
      ]
     },
     "execution_count": 17,
     "metadata": {},
     "output_type": "execute_result"
    }
   ],
   "source": [
    "#典型变量分析得到第一典型变量\n",
    "from numpy import *\n",
    "def CAA(X,Y):\n",
    "    R= corrcoef(X,Y,rowvar=0)\n",
    "    m, n = shape(X)\n",
    "    p, q = shape(Y)\n",
    "    # print(m,n)\n",
    "    # print(p,q)\n",
    " \n",
    "    R11=[]\n",
    "    R22=[]\n",
    "    R12=[]\n",
    "#计算相关系数\n",
    "    for i in range(n):\n",
    "        temp=R[i]\n",
    "        a=temp[0:n]\n",
    "        R11.append(a)\n",
    " \n",
    "    for j in range(n,n+q):\n",
    "        temp=R[j]\n",
    "        a=temp[n:n+q]\n",
    "        R22.append(a)\n",
    " \n",
    "    for s in range(n):\n",
    "        temp=R[s]\n",
    "        a=temp[n:n+q]\n",
    "        R12.append(a)\n",
    " \n",
    "    R11=matrix(R11)\n",
    " \n",
    "    R22 = matrix(R22)\n",
    "    R12 = matrix(R12)\n",
    "    R21=R12.T\n",
    "#计算特征值与特征向量\n",
    "    M=(R11.I)*(R12)*(R22.I)*(R21)\n",
    "    eigVals, eigVects = linalg.eig(mat(M))  # 计算特征值和特征向量\n",
    "    eigValInd = sorted(eigVals,reverse=True)  # 对特征值eigVals从大到小排序\n",
    "    sorted_indices = np.argsort(-eigVals)#根据特征值的顺序排列相应的特征向量\n",
    "    topk_evecs = eigVects[:, sorted_indices[:]]\n",
    "    eig=sqrt(eigValInd)#计算特征值开平方\n",
    "    # print(\"特征值开方=\",eig) \n",
    "#计算第一对典型变量的相应的系数\n",
    "    k,l=shape(topk_evecs)\n",
    "    cout_t=[]\n",
    "    for i in range(l):\n",
    "        t=1.0/((topk_evecs[:,i].T)*R11*(topk_evecs[:,i]))\n",
    "        cout_t.append(t[0,0])\n",
    "    # print(\"cout_t=\", cout_t)\n",
    "    tt=[sqrt(i) for i in cout_t]\n",
    "    # print(\"tt=\",tt)\n",
    " \n",
    "    a1=tt[0]*topk_evecs[:,0]#第一个特征值开方所对应的特征向量\n",
    "    p1=(1.0/eig[0])*(R22.I)*R21*a1#第一个特征值开方所对应的特征向量\n",
    "    print(\"特征值开方=\", real(eig[0]))\n",
    "    # print(\"a1=\",a1)\n",
    "    # print(\"p1=\",p1)\n",
    "    # print(\"a1.shape=\", shape(a1))\n",
    "    # print(\"p1.shape=\",shape(p1))\n",
    " \n",
    "    #进行显著性检验\n",
    "    U1 = []\n",
    "    V1 = []\n",
    "    A=1\n",
    "    for i in range(len(eigVals)):\n",
    "        A*=(1-eigVals[i])\n",
    "    Q1=-(m-1-1.0/2*(n+q+1))*log(A)\n",
    "    # print(\"Q1=\",Q1)\n",
    "    if Q1>7.81:\n",
    " \n",
    "        # print(\"第一主成分为显著性关联\")\n",
    "        for i in range(m):\n",
    "            temp1 = 0\n",
    "            for j in range(n):\n",
    "                temp1+=a1[j]*X[i,j]\n",
    "            # print(temp1)\n",
    "            U1.append(temp1[0,0])\n",
    " \n",
    "        for i in range(p):\n",
    "            temp2 = 0\n",
    "            for j in range(q):\n",
    "                temp2+= p1[j] * Y[i, j]\n",
    "            V1.append(temp2[0,0])\n",
    " \n",
    "        # print(\"U1,VI=\",U1,V1)\n",
    "    else:\n",
    "        print(\"第一主成分不显著关联\")\n",
    " \n",
    "    A2=1\n",
    "    for i in range(1,len(eigVals)):\n",
    "        A2*=(1-eigVals[i])\n",
    "    Q2 = -(m - 2 - 1.0 / 2 * (n + q + 1)+1.0/(sqrt(eig[0]))) * log(A2)\n",
    "    print(\"Q2=\", Q2)\n",
    "    if Q2>37.65:\n",
    "        print(\"第二主成分为显著性关联\")\n",
    "    else :\n",
    "        print(\"第二主成分不显著关联\")\n",
    "    \n",
    "    A3=1\n",
    "    for i in range(2,len(eigVals)):\n",
    "        A3*=(1-eigVals[i])\n",
    "    Q3= -(m - 3 - 1.0 / 2 * (n + q + 1)) * log(A3)\n",
    "    print(\"Q3=\", Q3)\n",
    "    if Q3>26.3:\n",
    "        print(\"第三主成分为显著性关联\")\n",
    "    else :\n",
    "        print(\"第三主成分不显著关联\")\n",
    "    return U1,V1,eig[0]\n",
    "CAA(X,Y)"
   ]
  },
  {
   "cell_type": "code",
   "execution_count": null,
   "metadata": {
    "collapsed": false
   },
   "outputs": [],
   "source": [
    "\n"
   ]
  },
  {
   "cell_type": "code",
   "execution_count": null,
   "metadata": {
    "collapsed": false
   },
   "outputs": [],
   "source": []
  },
  {
   "cell_type": "code",
   "execution_count": null,
   "metadata": {
    "collapsed": true
   },
   "outputs": [],
   "source": []
  },
  {
   "cell_type": "code",
   "execution_count": null,
   "metadata": {
    "collapsed": true
   },
   "outputs": [],
   "source": []
  },
  {
   "cell_type": "code",
   "execution_count": null,
   "metadata": {
    "collapsed": true
   },
   "outputs": [],
   "source": []
  }
 ],
 "metadata": {
  "anaconda-cloud": {},
  "kernelspec": {
   "display_name": "Python [conda root]",
   "language": "python",
   "name": "conda-root-py"
  },
  "language_info": {
   "codemirror_mode": {
    "name": "ipython",
    "version": 3
   },
   "file_extension": ".py",
   "mimetype": "text/x-python",
   "name": "python",
   "nbconvert_exporter": "python",
   "pygments_lexer": "ipython3",
   "version": "3.5.2"
  }
 },
 "nbformat": 4,
 "nbformat_minor": 1
}
