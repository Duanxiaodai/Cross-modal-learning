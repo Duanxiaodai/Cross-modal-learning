{
 "cells": [
  {
   "cell_type": "code",
   "execution_count": 16,
   "metadata": {
    "collapsed": false
   },
   "outputs": [],
   "source": [
    "#!/usr/bin/python\n",
    "# coding=utf-8\n",
    "#########################################\n",
    "# kNN: k Nearest Neighbors\n",
    " \n",
    "#  输入:      newInput:  (1xN)的待分类向量\n",
    "#             dataSet:   (NxM)的训练数据集\n",
    "#             labels:     训练数据集的类别标签向量\n",
    "#             k:         近邻数\n",
    " \n",
    "# 输出:     可能性最大的分类标签\n",
    "#########################################\n",
    " \n",
    "from numpy import *\n",
    " \n",
    " \n",
    "# 创建一个数据集，包含2个类别共4个样本\n",
    "def createDataSet():\n",
    "    # 生成一个矩阵，每行表示一个样本\n",
    "    group = array([[1.0, 0.9], [1.0, 1.0], [0.1, 0.2], [0.0, 0.1]])\n",
    "    # 4个样本分别所属的类别\n",
    "    labels = ['A', 'A', 'B', 'B']\n",
    "    return group, labels\n",
    " \n",
    "# KNN分类算法函数定义\n",
    "def kNNClassify(newInput, dataSet, labels, k):\n",
    "    numSamples = dataSet.shape[0]   # shape[0]表示行数\n",
    " \n",
    "    # # step 1: 计算距离[\n",
    "    # 假如：\n",
    "    # Newinput：[1,0,2]\n",
    "    # Dataset:\n",
    "    # [1,0,1]\n",
    "    # [2,1,3]\n",
    "    # [1,0,2]\n",
    "    # 计算过程即为：\n",
    "    # 1、求差\n",
    "    # [1,0,1]       [1,0,2]\n",
    "    # [2,1,3]   --   [1,0,2]\n",
    "    # [1,0,2]       [1,0,2]\n",
    "    # =\n",
    "    # [0,0,-1]\n",
    "    # [1,1,1]\n",
    "    # [0,0,-1]\n",
    "    # 2、对差值平方\n",
    "    # [0,0,1]\n",
    "    # [1,1,1]\n",
    "    # [0,0,1]\n",
    "    # 3、将平方后的差值累加\n",
    "    # [1]\n",
    "    # [3]\n",
    "    # [1]\n",
    "    # 4、将上一步骤的值求开方，即得距离\n",
    "    # [1]\n",
    "    # [1.73]\n",
    "    # [1]\n",
    "    #\n",
    "    # ]\n",
    "    # tile(A, reps): 构造一个矩阵，通过A重复reps次得到\n",
    "    # tile函数位于python模块 numpy.lib.shape_base中，他的功能是重复某个数组。\n",
    "    # 比如tile(A,n)，功能是将数组A重复n次，构成一个新的数组\n",
    "    # the following copy numSamples rows for dataSet\n",
    "    diff = tile(newInput, (numSamples, 1)) - dataSet  # 按元素求差值\n",
    "    squaredDiff = diff ** 2  # 将差值平方\n",
    "    squaredDist = sum(squaredDiff, axis = 1)   # 按行累加\n",
    "    distance = squaredDist ** 0.5  # 将差值平方和求开方，即得距离\n",
    "    #print(distance)\n",
    "    # # step 2: 对距离排序\n",
    "    # argsort() 返回排序后的索引值 数组值从小到大的索引值\n",
    "    sortedDistIndices = argsort(distance)\n",
    "    #print( sortedDistIndices)\n",
    "    classCount = {} # define a dictionary (can be append element)\n",
    "    #print(classCount)\n",
    "    for i in range(k):\n",
    "        # # step 3: 选择k个最近邻\n",
    "        voteLabel = labels[sortedDistIndices[i]]\n",
    "        #print(voteLabel)\n",
    "        # # step 4: 计算k个最近邻中各类别出现的次数\n",
    "        # when the key voteLabel is not in dictionary classCount, get()\n",
    "        # will return 0\n",
    "        # classCount.get(voteIlabel,0)返回字典classCount中voteIlabel元素对应的值,若无，则进行初始化\n",
    "        # 当字典中有voteIlabel元素时，classCount.get(voteIlabel,0)作用是返回该元素对应的值，即0\n",
    "        classCount[voteLabel] = classCount.get(voteLabel, 0) + 1\n",
    "        #print(classCount[voteLabel])\n",
    "    # # step 5: 返回出现次数最多的类别标签\n",
    "    # 遍历字典列表classCount\n",
    "    maxCount = 0\n",
    "    for key, value in classCount.items():\n",
    "        if value > maxCount:\n",
    "            maxCount = value\n",
    "            maxIndex = key\n",
    " \n",
    "    return maxIndex\n"
   ]
  },
  {
   "cell_type": "code",
   "execution_count": 18,
   "metadata": {
    "collapsed": false
   },
   "outputs": [
    {
     "name": "stdout",
     "output_type": "stream",
     "text": [
      "Your input is: [ 1.2  1. ] and classified to class:  A\n",
      "Your input is: [ 0.1  0.3] and classified to class:  B\n"
     ]
    }
   ],
   "source": [
    "#!/usr/bin/python\n",
    "# coding=utf-8\n",
    "# import knn\n",
    "from numpy import *\n",
    "# 生成数据集和类别标签\n",
    "dataSet, labels = createDataSet()\n",
    "# 定义一个未知类别的数据\n",
    "testX = array([1.2, 1.0])\n",
    "k = 3\n",
    "# 调用分类函数对未知数据分类\n",
    "outputLabel = kNNClassify(testX, dataSet, labels, 3)\n",
    "print(\"Your input is:\", testX, \"and classified to class: \", outputLabel)\n",
    " \n",
    "testX = array([0.1, 0.3])\n",
    "outputLabel = kNNClassify(testX, dataSet, labels, 3)\n",
    "print(\"Your input is:\", testX, \"and classified to class: \", outputLabel)\n"
   ]
  },
  {
   "cell_type": "code",
   "execution_count": null,
   "metadata": {
    "collapsed": true
   },
   "outputs": [],
   "source": []
  },
  {
   "cell_type": "code",
   "execution_count": null,
   "metadata": {
    "collapsed": true
   },
   "outputs": [],
   "source": []
  }
 ],
 "metadata": {
  "anaconda-cloud": {},
  "kernelspec": {
   "display_name": "Python [conda root]",
   "language": "python",
   "name": "conda-root-py"
  },
  "language_info": {
   "codemirror_mode": {
    "name": "ipython",
    "version": 3
   },
   "file_extension": ".py",
   "mimetype": "text/x-python",
   "name": "python",
   "nbconvert_exporter": "python",
   "pygments_lexer": "ipython3",
   "version": "3.5.2"
  }
 },
 "nbformat": 4,
 "nbformat_minor": 1
}
