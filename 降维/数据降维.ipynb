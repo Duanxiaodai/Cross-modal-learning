{
 "cells": [
  {
   "cell_type": "code",
   "execution_count": 8,
   "metadata": {
    "collapsed": false
   },
   "outputs": [
    {
     "data": {
      "image/png": "[encoded data removed]",
      "text/plain": [
       "<Figure size 432x288 with 1 Axes>"
      ]
     },
     "metadata": {},
     "output_type": "display_data"
    }
   ],
   "source": [
    "import numpy as np\n",
    "import pandas as pd\n",
    "import matplotlib.pyplot as plt\n",
    "\n",
    "#计算均值,要求输入数据为numpy的矩阵格式，行表示样本数，列表示特征    \n",
    "def meanX(dataX):\n",
    "    return np.mean(dataX,axis=0)#axis=0表示按照列来求均值，如果输入list,则axis=1\n",
    "\n",
    "\n",
    "#计算方差,传入的是一个numpy的矩阵格式，行表示样本数，列表示特征    \n",
    "def variance(X):\n",
    "    m, n = np.shape(X)\n",
    "    mu = meanX(X)\n",
    "    muAll = np.tile(mu, (m, 1))    \n",
    "    X1 = X - muAll\n",
    "    variance = 1./m * np.diag(X1.T * X1)\n",
    "    return variance\n",
    "\n",
    "#标准化,传入的是一个numpy的矩阵格式，行表示样本数，列表示特征    \n",
    "def normalize(X):\n",
    "    m, n = np.shape(X)\n",
    "    mu = meanX(X)\n",
    "    muAll = np.tile(mu, (m, 1))    \n",
    "    X1 = X - muAll\n",
    "    X2 = np.tile(np.diag(X.T * X), (m, 1))\n",
    "    XNorm = X1/X2\n",
    "    return XNorm\n",
    "\n",
    "\"\"\"\n",
    "参数：\n",
    "\t- XMat：传入的是一个numpy的矩阵格式，行表示样本数，列表示特征    \n",
    "\t- k：表示取前k个特征值对应的特征向量\n",
    "返回值：\n",
    "\t- finalData：参数一指的是返回的低维矩阵，对应于输入参数二\n",
    "\t- reconData：参数二对应的是移动坐标轴后的矩阵\n",
    "\"\"\"  \n",
    "def pca(XMat, k):\n",
    "    average = meanX(XMat) \n",
    "    m, n = np.shape(XMat)\n",
    "    data_adjust = []\n",
    "    avgs = np.tile(average, (m, 1))\n",
    "    data_adjust = XMat - avgs\n",
    "    covX = np.cov(data_adjust.T)   #计算协方差矩阵\n",
    "    featValue, featVec=  np.linalg.eig(covX)  #求解协方差矩阵的特征值和特征向量\n",
    "    index = np.argsort(-featValue) #按照featValue进行从大到小排序\n",
    "    finalData = []\n",
    "    if k > n:\n",
    "        print (\"k must lower than feature number\")\n",
    "        return\n",
    "    else:\n",
    "        #注意特征向量时列向量，而numpy的二维矩阵(数组)a[m][n]中，a[1]表示第1行值\n",
    "        selectVec = np.matrix(featVec.T[index[:k]]) #所以这里需要进行转置\n",
    "        finalData = data_adjust * selectVec.T \n",
    "        reconData = (finalData * selectVec) + average  \n",
    "    return finalData, reconData\n",
    "\n",
    "def loaddata(datafile):\n",
    "    return np.array(pd.read_csv(datafile,sep=\"\\t\",header=-1)).astype(np.float)\n",
    "\n",
    "\n",
    "def plotBestFit(data1, data2):\t  \n",
    "    dataArr1 = np.array(data1)\n",
    "    dataArr2 = np.array(data2)\n",
    "    \n",
    "    m = np.shape(dataArr1)[0]\n",
    "    axis_x1 = []\n",
    "    axis_y1 = []\n",
    "    axis_x2 = []\n",
    "    axis_y2 = []\n",
    "    for i in range(m):\n",
    "        axis_x1.append(dataArr1[i,0])\n",
    "        axis_y1.append(dataArr1[i,1])\n",
    "        axis_x2.append(dataArr2[i,0]) \n",
    "        axis_y2.append(dataArr2[i,1])\t\t\t\t  \n",
    "    fig = plt.figure()\n",
    "    ax = fig.add_subplot(111)\n",
    "    ax.scatter(axis_x1, axis_y1, s=50, c='red', marker='s')\n",
    "    ax.scatter(axis_x2, axis_y2, s=50, c='blue')\n",
    "    plt.xlabel('x1'); plt.ylabel('x2');\n",
    "    plt.savefig(\"outfile.png\")\n",
    "    plt.show()\t\n",
    "\n",
    "#简单测试\n",
    "#数据来源：http://www.cnblogs.com/jerrylead/archive/2011/04/18/2020209.html\n",
    "def test():\n",
    "    X = [[2.5, 0.5, 2.2, 1.9, 3.1, 2.3, 2, 1, 1.5, 1.1],\n",
    "         [2.4, 0.7, 2.9, 2.2, 3.0, 2.7, 1.6, 1.1, 1.6, 0.9]]\n",
    "    XMat = np.matrix(X).T  \n",
    "    k = 2\n",
    "    return pca(XMat, k)\n",
    "\n",
    "#根据数据集data.txt\n",
    "def main():    \n",
    "    datafile = \"data.txt\"\n",
    "    XMat = loaddata(datafile)\n",
    "    k = 2\n",
    "    return pca(XMat, k)\n",
    "    \n",
    "if __name__ == \"__main__\":\n",
    "    finalData, reconMat = main()\n",
    "    plotBestFit(finalData, reconMat)"
   ]
  },
  {
   "cell_type": "code",
   "execution_count": null,
   "metadata": {
    "collapsed": true
   },
   "outputs": [],
   "source": []
  }
 ],
 "metadata": {
  "anaconda-cloud": {},
  "kernelspec": {
   "display_name": "Python [conda root]",
   "language": "python",
   "name": "conda-root-py"
  },
  "language_info": {
   "codemirror_mode": {
    "name": "ipython",
    "version": 3
   },
   "file_extension": ".py",
   "mimetype": "text/x-python",
   "name": "python",
   "nbconvert_exporter": "python",
   "pygments_lexer": "ipython3",
   "version": "3.5.2"
  }
 },
 "nbformat": 4,
 "nbformat_minor": 1
}
