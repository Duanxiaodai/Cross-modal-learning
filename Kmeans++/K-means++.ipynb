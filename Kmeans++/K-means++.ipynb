{
 "cells": [
  {
   "cell_type": "code",
   "execution_count": 25,
   "metadata": {
    "collapsed": false,
    "nbpresent": {
     "id": "8cbe3319-0a6f-40cc-90b6-3134948bd390"
    }
   },
   "outputs": [
    {
     "name": "stdout",
     "output_type": "stream",
     "text": [
      "(24, 4096) (1000, 2)\n"
     ]
    }
   ],
   "source": [
    "#K-means++\n",
    "from pylab import *\n",
    "from numpy import *\n",
    "import codecs\n",
    "import matplotlib.pyplot as plt\n",
    "data=[]\n",
    "labels=[]\n",
    "#数据读取\n",
    "def dataLoader(file):\n",
    "    return np.array([ i.split() for i in open(file)],dtype=\"float\")\n",
    "\n",
    "datas = dataLoader('1000img.txt')\n",
    "# with codecs.open(\"data.txt\",\"r\") as f:\n",
    "#     for line in f.readlines():\n",
    "#         x,y,label=line.strip().split('\\t')\n",
    "#         data.append([float(x),float(y)])\n",
    "#         labels.append(float(label))\n",
    "# datas=array(data)\n",
    " \n",
    "#计算欧氏距离\n",
    "def distance(x1,x2):\n",
    "    return sqrt(sum(power(x1-x2,2)))\n",
    " \n",
    "#对一个样本找到与该样本距离最近的聚类中心\n",
    "def nearest(point, cluster_centers):\n",
    "    min_dist = inf\n",
    "    m = np.shape(cluster_centers)[0]  # 当前已经初始化的聚类中心的个数\n",
    "    for i in range(m):\n",
    "        # 计算point与每个聚类中心之间的距离\n",
    "        d = distance(point, cluster_centers[i, ])\n",
    "        # 选择最短距离\n",
    "        if min_dist > d:\n",
    "            min_dist = d\n",
    "    return min_dist\n",
    "#选择尽可能相距较远的类中心\n",
    "def get_centroids(dataset, k):\n",
    "    m, n = np.shape(dataset)\n",
    "    cluster_centers = np.zeros((k , n))\n",
    "    index = np.random.randint(0, m)\n",
    "    cluster_centers[0,] = dataset[index, ]\n",
    "    # 2、初始化一个距离的序列\n",
    "    d = [0.0 for _ in range(m)]\n",
    "    for i in range(1, k):\n",
    "        sum_all = 0\n",
    "        for j in range(m):\n",
    "            # 3、对每一个样本找到最近的聚类中心点\n",
    "            d[j] = nearest(dataset[j, ], cluster_centers[0:i, ])\n",
    "            # 4、将所有的最短距离相加\n",
    "            sum_all += d[j]\n",
    "        # 5、取得sum_all之间的随机值\n",
    "        sum_all *= random.rand()\n",
    "        # 6、获得距离最远的样本点作为聚类中心点\n",
    "        for j, di in enumerate(d):\n",
    "            sum_all=sum_all - di\n",
    "            if sum_all > 0:\n",
    "                continue\n",
    "            cluster_centers[i,] = dataset[j, ]\n",
    "            break\n",
    "    return cluster_centers\n",
    " \n",
    "#主程序\n",
    "def Kmeans(dataset,k):\n",
    "    row_m=shape(dataset)[0]\n",
    "    cluster_assign=zeros((row_m,2))\n",
    "    center=get_centroids(dataset,k)\n",
    "    change=True\n",
    "    while change:\n",
    "        change=False\n",
    "        for i in range(row_m):\n",
    "            mindist=inf\n",
    "            min_index=-1\n",
    "            for j in range(k):\n",
    "                distance1=distance(center[j,:],dataset[i,:])\n",
    "                if distance1<mindist:\n",
    "                    mindist=distance1\n",
    "                    min_index=j\n",
    "            if cluster_assign[i,0] != min_index:\n",
    "                change=True\n",
    "            cluster_assign[i,:]=min_index,mindist**2\n",
    "        for cen in range(k):\n",
    "            cluster_data=dataset[nonzero(cluster_assign[:,0]==cen)]\n",
    "            center[cen,:]=mean(cluster_data,0)\n",
    "    return center ,cluster_assign\n",
    "cluster_center,cluster_assign=Kmeans(datas,24)\n",
    "print(cluster_center.shape,cluster_assign.shape)\n",
    " \n",
    "#设置x,y轴的范围\n",
    "# xlim(0, 10)\n",
    "# ylim(0, 10)\n",
    "# #做散点图\n",
    "# f1 = plt.figure(1)\n",
    "# plt.scatter(datas[nonzero(cluster_assign[:,0]==0),0],datas[nonzero(cluster_assign[:,0]==0),1],marker='o',color='r',label='0',s=30)\n",
    "# plt.scatter(datas[nonzero(cluster_assign[:,0]==1),0],datas[nonzero(cluster_assign[:,0]==1),1],marker='+',color='b',label='1',s=30)\n",
    "# plt.scatter(datas[nonzero(cluster_assign[:,0]==2),0],datas[nonzero(cluster_assign[:,0]==2),1],marker='*',color='g',label='2',s=30)\n",
    "# plt.scatter(cluster_center[:,1],cluster_center[:,0],marker = 'x', color = 'm', s = 50)\n",
    "# plt.show() \n"
   ]
  },
  {
   "cell_type": "code",
   "execution_count": null,
   "metadata": {
    "collapsed": true,
    "nbpresent": {
     "id": "a6df1e39-b37c-47cb-ae70-37c7d3ddd796"
    }
   },
   "outputs": [],
   "source": []
  },
  {
   "cell_type": "code",
   "execution_count": null,
   "metadata": {
    "collapsed": true
   },
   "outputs": [],
   "source": []
  }
 ],
 "metadata": {
  "anaconda-cloud": {},
  "celltoolbar": "Raw Cell Format",
  "kernelspec": {
   "display_name": "Python [conda root]",
   "language": "python",
   "name": "conda-root-py"
  },
  "language_info": {
   "codemirror_mode": {
    "name": "ipython",
    "version": 3
   },
   "file_extension": ".py",
   "mimetype": "text/x-python",
   "name": "python",
   "nbconvert_exporter": "python",
   "pygments_lexer": "ipython3",
   "version": "3.5.2"
  }
 },
 "nbformat": 4,
 "nbformat_minor": 1
}
