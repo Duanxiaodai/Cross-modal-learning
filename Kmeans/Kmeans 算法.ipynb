{
 "cells": [
  {
   "cell_type": "code",
   "execution_count": 13,
   "metadata": {
    "collapsed": false
   },
   "outputs": [],
   "source": [
    "# -*- coding:utf-8 -*-\n",
    "\n",
    "\n",
    "# # 随机生成聚类中心\n",
    "# def randCenters(dataSet, k):\n",
    "#     n = shape(dataSet)[1]   # 列数\n",
    "#     clustercents = mat(zeros((k, n)))   # 初始化聚类中心矩阵：k*n\n",
    "#     for col in range(n):\n",
    "#         mincol = min(dataSet[:, col])\n",
    "#         maxcol = max(dataSet[:, col])\n",
    "#         # random.rand(k, 1):产生一个0~1之间的随机数向量（k,1表示产生k行1列的随机数）\n",
    "#         clustercents[:, col] = mat(mincol + float(maxcol - mincol) * random.rand(k, 1))   # 按列赋值\n",
    "#     return clustercents\n",
    "\n",
    "# # 欧式距离计算公式\n",
    "# def distEclud(vecA, vecB):\n",
    "#     return linalg.norm(vecA-vecB)\n",
    "\n",
    "# # 绘制散点图\n",
    "# def drawScatter(plt, mydata, size=20, color='blue', mrkr='o'):\n",
    "#     plt.scatter(mydata.T[0], mydata.T[1], s=size, c=color, marker=mrkr)\n",
    "\n",
    "# # 以不同颜色绘制数据集里的点\n",
    "# def color_cluster(dataindx, dataSet, plt):\n",
    "#     datalen = len(dataindx)\n",
    "#     for indx in xrange(datalen):\n",
    "#         if int(dataindx[indx]) == 0:\n",
    "#             plt.scatter(dataSet[indx, 0], dataSet[indx, 1], c='blue', marker='o')\n",
    "#         elif int(dataindx[indx]) == 1:\n",
    "#             plt.scatter(dataSet[indx, 0], dataSet[indx, 1], c='green', marker='o')\n",
    "#         elif int(dataindx[indx]) == 2:\n",
    "#             plt.scatter(dataSet[indx, 0], dataSet[indx, 1], c='red', marker='o')\n",
    "#         elif int(dataindx[indx]) == 3:\n",
    "#             plt.scatter(dataSet[indx, 0], dataSet[indx, 1], c='cyan', marker='o')\n",
    "            \n",
    "# dataSet = file2matrix('E:/Git项目/1000个文本特征与图片特征/1000img.txt',' ')"
   ]
  },
  {
   "cell_type": "code",
   "execution_count": null,
   "metadata": {
    "collapsed": false
   },
   "outputs": [],
   "source": [
    "\n"
   ]
  },
  {
   "cell_type": "code",
   "execution_count": null,
   "metadata": {
    "collapsed": false
   },
   "outputs": [],
   "source": []
  },
  {
   "cell_type": "code",
   "execution_count": 30,
   "metadata": {
    "collapsed": false
   },
   "outputs": [],
   "source": [
    "#encoding=utf-8\n",
    "import numpy as np\n",
    "import matplotlib.pyplot as plt\n",
    "\n",
    "\n",
    "# 数据文件转矩阵\n",
    "# path： 数据文件路径\n",
    "# delimiter: 行内字段分隔符\n",
    "def file2matrix(path, delimiter):\n",
    "    fp = open(path, \"r\")   # 读取文件内容\n",
    "    content = fp.read()\n",
    "    fp.close()\n",
    "    rowlist = content.splitlines()   # 按行转换为一维表\n",
    "    # 逐行遍历，结果按分隔符分隔为行向量\n",
    "    #recordlist = [map(eval, row.split(delimiter)) for row in rowlist if row.strip()]\n",
    "    \n",
    "    recordlist = [list(map(eval, row.split())) for row in rowlist if row.strip()]\n",
    "    #ist = [row for row in rowlist if row.strip()]\n",
    "    \n",
    "    \n",
    "    # 返回转换后的矩阵形式\n",
    "    #print(recordlist[0])\n",
    "    return array(recordlist)\n",
    "\n",
    "\n",
    "# 加载数据\n",
    "def loadDataSet(fileName):\n",
    "    data = np.loadtxt(fileName, delimiter='\\t')\n",
    "    return data\n",
    "\n",
    "\n",
    "# 欧氏距离计算\n",
    "def distEclud(x, y):\n",
    "    return np.sqrt(np.sum((x - y) ** 2))  # 计算欧氏距离\n",
    "\n",
    "\n",
    "# 为给定数据集构建一个包含K个随机质心的集合\n",
    "def randCent(dataSet, k):\n",
    "    m, n = dataSet.shape\n",
    "    centroids = np.zeros((k, n))\n",
    "    for i in range(k):\n",
    "        index = int(np.random.uniform(0, m))  #\n",
    "        centroids[i, :] = dataSet[index, :]\n",
    "    return centroids\n",
    "\n",
    "\n",
    "# k均值聚类\n",
    "def KMeans(dataSet, k):\n",
    "    m = np.shape(dataSet)[0]  # 行的数目\n",
    "    # 第一列存样本属于哪一簇\n",
    "    # 第二列存样本的到簇的中心点的误差\n",
    "    clusterAssment = np.mat(np.zeros((m, 2)))\n",
    "    clusterChange = True\n",
    "\n",
    "    # 第1步 初始化centroids\n",
    "    centroids = randCent(dataSet, k)\n",
    "    while clusterChange:\n",
    "        clusterChange = False\n",
    "\n",
    "        # 遍历所有的样本（行数）\n",
    "        for i in range(m):\n",
    "            minDist = 100000.0\n",
    "            minIndex = -1\n",
    "\n",
    "            # 遍历所有的质心\n",
    "            # 第2步 找出最近的质心\n",
    "            for j in range(k):\n",
    "                # 计算该样本到质心的欧式距离\n",
    "                distance = distEclud(centroids[j, :], dataSet[i, :])\n",
    "                if distance < minDist:\n",
    "                    minDist = distance\n",
    "                    minIndex = j\n",
    "            # 第 3 步：更新每一行样本所属的簇\n",
    "            if clusterAssment[i, 0] != minIndex:\n",
    "                clusterChange = True\n",
    "                clusterAssment[i, :] = minIndex, minDist ** 2\n",
    "        # 第 4 步：更新质心\n",
    "        for j in range(k):\n",
    "            pointsInCluster = dataSet[np.nonzero(clusterAssment[:, 0].A == j)[0]]  # 获取簇类所有的点\n",
    "            centroids[j, :] = np.mean(pointsInCluster, axis=0)  # 对矩阵的行求均值\n",
    "\n",
    "    print(\"Congratulations,cluster complete!\")\n",
    "    return centroids, clusterAssment\n",
    "\n",
    "\n",
    "def showCluster(dataSet, k, centroids, clusterAssment):\n",
    "    m, n = dataSet.shape\n",
    "    if n != 2:\n",
    "        print(\"数据不是二维的\")\n",
    "        return 1\n",
    "\n",
    "    mark = ['or', 'ob', 'og', 'ok', '^r', '+r', 'sr', 'dr', '<r', 'pr']\n",
    "    if k > len(mark):\n",
    "        print(\"k值太大了\")\n",
    "        return 1\n",
    "\n",
    "    # 绘制所有的样本\n",
    "    for i in range(m):\n",
    "        markIndex = int(clusterAssment[i, 0])\n",
    "        plt.plot(dataSet[i, 0], dataSet[i, 1], mark[markIndex])\n",
    "\n",
    "    mark = ['Dr', 'Db', 'Dg', 'Dk', '^b', '+b', 'sb', 'db', '<b', 'pb']\n",
    "    # 绘制质心\n",
    "    for i in range(k):\n",
    "        plt.plot(centroids[i, 0], centroids[i, 1], mark[i])\n",
    "\n",
    "    plt.show()\n",
    "\n",
    "\n",
    "# dataSet = loadDataSet('E:/Git项目/machine-learning-notes/codes/K_means/test.txt')\n",
    "# print(np.shape(dataSet))\n",
    "\n",
    "# k = 4\n",
    "# centroids, clusterAssment = KMeans(dataSet, k)\n",
    "\n",
    "# showCluster(dataSet, k, centroids, clusterAssment)\n"
   ]
  },
  {
   "cell_type": "code",
   "execution_count": 31,
   "metadata": {
    "collapsed": false
   },
   "outputs": [
    {
     "name": "stdout",
     "output_type": "stream",
     "text": [
      "Congratulations,cluster complete!\n"
     ]
    }
   ],
   "source": [
    "dataSet = file2matrix('E:/Git项目/1000个文本特征与图片特征/1000img.txt',' ')\n",
    "centroids, clusterAssment = KMeans(dataSet,24)"
   ]
  },
  {
   "cell_type": "code",
   "execution_count": 32,
   "metadata": {
    "collapsed": false
   },
   "outputs": [
    {
     "data": {
      "text/plain": [
       "(24, 4096)"
      ]
     },
     "execution_count": 32,
     "metadata": {},
     "output_type": "execute_result"
    }
   ],
   "source": [
    "centroids.shape\n"
   ]
  },
  {
   "cell_type": "code",
   "execution_count": 35,
   "metadata": {
    "collapsed": false
   },
   "outputs": [
    {
     "data": {
      "text/plain": [
       "matrix([[  0.00000000e+00,   3.08936205e+03],\n",
       "        [  2.00000000e+01,   8.48388758e+03],\n",
       "        [  7.00000000e+00,   8.22286804e+03],\n",
       "        ..., \n",
       "        [  1.60000000e+01,   6.80091450e+03],\n",
       "        [  4.00000000e+00,   5.66685116e+03],\n",
       "        [  1.00000000e+00,   3.89230682e+03]])"
      ]
     },
     "execution_count": 35,
     "metadata": {},
     "output_type": "execute_result"
    }
   ],
   "source": [
    "clusterAssment"
   ]
  },
  {
   "cell_type": "code",
   "execution_count": 34,
   "metadata": {
    "collapsed": false
   },
   "outputs": [
    {
     "name": "stdout",
     "output_type": "stream",
     "text": [
      "数据不是二维的\n"
     ]
    },
    {
     "data": {
      "text/plain": [
       "1"
      ]
     },
     "execution_count": 34,
     "metadata": {},
     "output_type": "execute_result"
    }
   ],
   "source": [
    "\n",
    "showCluster(dataSet, 24, centroids, clusterAssment)"
   ]
  },
  {
   "cell_type": "code",
   "execution_count": 49,
   "metadata": {
    "collapsed": false
   },
   "outputs": [],
   "source": [
    "import numpy as np\n",
    "x = np.mat([[1,2],[1,4]])"
   ]
  },
  {
   "cell_type": "code",
   "execution_count": 52,
   "metadata": {
    "collapsed": false
   },
   "outputs": [],
   "source": [
    "a = nonzero(x[:,0].A==1)[0]"
   ]
  },
  {
   "cell_type": "code",
   "execution_count": 53,
   "metadata": {
    "collapsed": true
   },
   "outputs": [],
   "source": [
    "y = np.array([[1,2],[2 ,3],[4,5]])\n",
    "z = y[a]"
   ]
  },
  {
   "cell_type": "code",
   "execution_count": 54,
   "metadata": {
    "collapsed": false
   },
   "outputs": [
    {
     "data": {
      "text/plain": [
       "array([[1, 2],\n",
       "       [2, 3]])"
      ]
     },
     "execution_count": 54,
     "metadata": {},
     "output_type": "execute_result"
    }
   ],
   "source": [
    "z"
   ]
  },
  {
   "cell_type": "code",
   "execution_count": null,
   "metadata": {
    "collapsed": true
   },
   "outputs": [],
   "source": []
  }
 ],
 "metadata": {
  "anaconda-cloud": {},
  "kernelspec": {
   "display_name": "Python [conda root]",
   "language": "python",
   "name": "conda-root-py"
  },
  "language_info": {
   "codemirror_mode": {
    "name": "ipython",
    "version": 3
   },
   "file_extension": ".py",
   "mimetype": "text/x-python",
   "name": "python",
   "nbconvert_exporter": "python",
   "pygments_lexer": "ipython3",
   "version": "3.5.2"
  }
 },
 "nbformat": 4,
 "nbformat_minor": 1
}
