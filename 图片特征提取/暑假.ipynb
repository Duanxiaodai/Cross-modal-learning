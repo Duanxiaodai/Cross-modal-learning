{
 "cells": [
  {
   "cell_type": "code",
   "execution_count": 3,
   "metadata": {
    "collapsed": false
   },
   "outputs": [
    {
     "name": "stdout",
     "output_type": "stream",
     "text": [
      "duan\n",
      "yuefeng\n",
      "(1, 4096)\n",
      "[[ 1.16104364  4.33858109  0.         ...,  0.          1.0532881\n",
      "   1.87205005]]\n",
      "finish\n"
     ]
    }
   ],
   "source": [
    "# -*- coding: utf-8 -*-\n",
    "# Author: yongyuan.name\n",
    "\n",
    "import numpy as np\n",
    "from numpy import linalg as LA\n",
    "\n",
    "from keras.applications.vgg16 import VGG16\n",
    "from keras.preprocessing import image\n",
    "from keras.applications.vgg16 import preprocess_input\n",
    "from keras.models import Model\n",
    "'''\n",
    " Use vgg16 model to extract features\n",
    " Output normalized feature vector\n",
    "'''\n",
    "def extract_feat(img_path):\n",
    "    # weights: 'imagenet'\n",
    "    # pooling: 'max' or 'avg'\n",
    "    # input_shape: (width, height, 3), width and height should >= 48\n",
    "    \n",
    "    input_shape = (224, 224, 3)\n",
    "    model = VGG16()\n",
    "    print('duan')\n",
    "    model.layers.pop()\n",
    "    model = Model(inputs=model.inputs,outputs= model.layers[-1].output)\n",
    "    img = image.load_img(img_path, target_size=(input_shape[0], input_shape[1]))\n",
    "\n",
    "    img = image.img_to_array(img)\n",
    "    # img = rgb2gray(img)\n",
    "    img = np.expand_dims(img, axis=0)\n",
    "    img = preprocess_input(img)\n",
    "    print('yuefeng')\n",
    "    feat = model.predict(img)\n",
    "    \n",
    "    # print(feat.shape)\n",
    "    #norm_feat = feat[0]/LA.norm(feat[0])\n",
    "    return feat   #norm_feat\n",
    "\n",
    "\n",
    "if __name__ == '__main__':\n",
    "    fp ='./image/im1.jpg'\n",
    "    img = extract_feat(fp)\n",
    "    #import matplotlib.pyplot as plt\n",
    "    print(img.shape)\n",
    "    print(img)\n",
    "    # plt.imshow(img)\n",
    "    # plt.show()\n",
    "    print('finish')"
   ]
  },
  {
   "cell_type": "code",
   "execution_count": null,
   "metadata": {
    "collapsed": true
   },
   "outputs": [],
   "source": []
  }
 ],
 "metadata": {
  "anaconda-cloud": {},
  "kernelspec": {
   "display_name": "Python [conda root]",
   "language": "python",
   "name": "conda-root-py"
  },
  "language_info": {
   "codemirror_mode": {
    "name": "ipython",
    "version": 3
   },
   "file_extension": ".py",
   "mimetype": "text/x-python",
   "name": "python",
   "nbconvert_exporter": "python",
   "pygments_lexer": "ipython3",
   "version": "3.5.2"
  }
 },
 "nbformat": 4,
 "nbformat_minor": 1
}
