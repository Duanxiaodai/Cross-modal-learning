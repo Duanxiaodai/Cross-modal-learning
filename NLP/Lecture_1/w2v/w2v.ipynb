{
 "cells": [
  {
   "cell_type": "code",
   "execution_count": 42,
   "metadata": {
    "collapsed": false
   },
   "outputs": [
    {
     "name": "stdout",
     "output_type": "stream",
     "text": [
      "21807\n",
      "Vocab(count:19049, index:16, sample_int:2224681334)\n",
      "Word2Vec(vocab=21807, size=60, alpha=0.025)\n"
     ]
    }
   ],
   "source": [
    "# -*- coding: utf-8-*-\n",
    "import jieba\n",
    "from gensim.models import word2vec\n",
    "\n",
    "# # #  去掉中英文状态下的逗号、句号\n",
    "# def clearSen(comment):\n",
    "#     comment = comment.strip(' ')\n",
    "#     comment = comment.replace('、','')\n",
    "#     comment = comment.replace('~','。')\n",
    "#     comment = comment.replace('～','')\n",
    "#     comment = comment.replace('{\"error_message\": \"EMPTY SENTENCE\"}','')\n",
    "#     comment = comment.replace('…','')\n",
    "#     comment = comment.replace('\\r', '')\n",
    "#     comment = comment.replace('\\t', ' ')\n",
    "#     comment = comment.replace('\\f', ' ')\n",
    "#     comment = comment.replace('/', '')\n",
    "#     comment = comment.replace('、', ' ')\n",
    "#     comment = comment.replace('/', '')\n",
    "#     comment = comment.replace(' ', '')\n",
    "#     comment = comment.replace(' ', '')\n",
    "#     comment = comment.replace('_', '')\n",
    "#     comment = comment.replace('?', ' ')\n",
    "#     comment = comment.replace('？', ' ')\n",
    "#     comment = comment.replace('了', '')\n",
    "#     comment = comment.replace('➕', '')\n",
    "#     return comment\n",
    "\n",
    "# # 用jieba进行分词\n",
    "# comment = open('./corpus/commentFromWT.txt',encoding='utf-8').read()\n",
    "# comment = clearSen(comment)\n",
    "# jieba.load_userdict('./user_dict/userdict_food.txt')\n",
    "# comment = ' '.join(jieba.cut(comment))\n",
    "\n",
    "# # 分完词的文件写到新的txt中去\n",
    "# fo = open(\"./corpus/afterSeg.txt\",\"w\",encoding='utf-8')\n",
    "# fo.write(comment)\n",
    "# print(\"finished!\")\n",
    "# fo.close()\n",
    "\n",
    "# sentences=word2vec.Text8Corpus(u'./corpus/afterSeg.txt')\n",
    "# # 第一个参数是训练语料，第二个参数是小于该数的单词会被剔除，默认值为5, 第三个参数是神经网络的隐藏层单元数，默认为100\n",
    "# model=word2vec.Word2Vec(sentences,min_count=3, size=60, window=5, workers=4)\n",
    "\n",
    "# y2=model.similarity(u\"不错\", u\"好吃\") #计算两个词之间的余弦距离\n",
    "# print(y2)\n",
    "\n",
    "# for i in model.most_similar(u\"好吃\"): #计算余弦距离最接近“滋润”的10个词\n",
    "#     print(i[0],i[1])\n",
    "\n",
    "# print(model['好吃'])\n",
    "# print(len(model['好吃']))\n",
    "\n",
    "# # 存储和加载咱们辛辛苦苦训练好的模型：\n",
    "# model.save('./mymodel.model')\n",
    "new_model=word2vec.Word2Vec.load('./mymodel.model')\n",
    "# 获取每个词的词向量\n",
    "print(len(new_model.wv.vocab))\n",
    "print(new_model.wv.vocab['好吃'])\n",
    "\n",
    "# print(new_model['好吃'])\n",
    "# print(new_model['好吃'].shape)\n",
    "print(new_model)\n",
    "\n",
    "\n",
    "# 训练词向量时传入的两个参数也对训练效果有很大影响，需要根据语料来决定参数的选择，好的词向量对NLP的分类、聚类、相似度判别等任务有重要意义"
   ]
  },
  {
   "cell_type": "code",
   "execution_count": null,
   "metadata": {
    "collapsed": true
   },
   "outputs": [],
   "source": []
  }
 ],
 "metadata": {
  "anaconda-cloud": {},
  "kernelspec": {
   "display_name": "Python [conda root]",
   "language": "python",
   "name": "conda-root-py"
  },
  "language_info": {
   "codemirror_mode": {
    "name": "ipython",
    "version": 3
   },
   "file_extension": ".py",
   "mimetype": "text/x-python",
   "name": "python",
   "nbconvert_exporter": "python",
   "pygments_lexer": "ipython3",
   "version": "3.5.2"
  }
 },
 "nbformat": 4,
 "nbformat_minor": 1
}
